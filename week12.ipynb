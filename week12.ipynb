{
 "cells": [
  {
   "cell_type": "code",
   "execution_count": 2,
   "metadata": {
    "collapsed": true
   },
   "outputs": [],
   "source": [
    "import json\n",
    "import requests\n",
    "import pandas as pd"
   ]
  },
  {
   "cell_type": "markdown",
   "metadata": {},
   "source": [
    "3 modules are necessary to work with the data obtained form the NYT API. json, requests, and pandas"
   ]
  },
  {
   "cell_type": "code",
   "execution_count": 3,
   "metadata": {
    "collapsed": false
   },
   "outputs": [
    {
     "name": "stdout",
     "output_type": "stream",
     "text": [
      "                 byline  critics_pick         date_updated  \\\n",
      "0        MANOHLA DARGIS             0  2017-04-20 16:44:14   \n",
      "1   JEANNETTE CATSOULIS             0  2017-04-14 16:44:02   \n",
      "2       NEIL GENZLINGER             0  2017-04-20 16:44:12   \n",
      "3        BEN KENIGSBERG             0  2017-04-07 16:44:01   \n",
      "4        BEN KENIGSBERG             0  2017-04-20 16:44:11   \n",
      "5   JEANNETTE CATSOULIS             0  2017-04-07 16:44:01   \n",
      "6           GLENN KENNY             0  2017-04-07 16:44:01   \n",
      "7          ANDY WEBSTER             0  2017-04-07 16:44:01   \n",
      "8        STEPHEN HOLDEN             0  2017-04-20 16:44:09   \n",
      "9       NEIL GENZLINGER             0  2017-04-07 16:44:01   \n",
      "10       STEPHEN HOLDEN             0  2017-04-20 16:44:08   \n",
      "11          A. O. SCOTT             1  2017-04-20 16:44:07   \n",
      "12         ANDY WEBSTER             0  2017-04-14 16:44:02   \n",
      "13       BEN KENIGSBERG             0  2017-04-20 16:44:06   \n",
      "14          A. O. SCOTT             0  2017-04-20 16:44:06   \n",
      "15       BEN KENIGSBERG             0  2017-03-31 16:44:02   \n",
      "16  JEANNETTE CATSOULIS             0  2017-04-14 16:44:02   \n",
      "17         ANDY WEBSTER             0  2017-04-07 16:44:01   \n",
      "18      NEIL GENZLINGER             0  2017-04-07 16:44:01   \n",
      "19         ANDY WEBSTER             0  2017-04-20 16:44:04   \n",
      "\n",
      "                             display_title  \\\n",
      "0                       Ghost in the Shell   \n",
      "1                           All This Panic   \n",
      "2                            The Boss Baby   \n",
      "3                             Carrie Pilby   \n",
      "4               David Lynch - The Art Life   \n",
      "5                               Here Alone   \n",
      "6   Tony Conrad: Completely in the Present   \n",
      "7                               Live Cargo   \n",
      "8                            Cezanne and I   \n",
      "9                            The Discovery   \n",
      "10                    The Zookeeper's Wife   \n",
      "11                          Karl Marx City   \n",
      "12                               Phillauri   \n",
      "13                                    Life   \n",
      "14                     I Called Him Morgan   \n",
      "15                      American Anarchist   \n",
      "16                                   CHIPS   \n",
      "17                          Dig Two Graves   \n",
      "18            In Search of Israeli Cuisine   \n",
      "19                           Power Rangers   \n",
      "\n",
      "                                             headline  \\\n",
      "0   Review: In ‘Ghost in the Shell,’ a Cyborg With...   \n",
      "1   Review: ‘All This Panic,’ a Cinematic Confidan...   \n",
      "2   Review: ‘The Boss Baby’ Puts Alec Baldwin in D...   \n",
      "3   Review: ‘Carrie Pilby,’ Saved by Bel Powley, S...   \n",
      "4   Review: Before ‘Eraserhead’ There Was ‘David L...   \n",
      "5   Review: ‘Here Alone’ Will Scare You With Menac...   \n",
      "6    Review: Tony Conrad, ‘Completely in the Present’   \n",
      "7   Review: ‘Live Cargo,’ Human Trafficking, and O...   \n",
      "8   Review: In ‘Cézanne et Moi,’ Zola and the Arti...   \n",
      "9   Review: ‘The Discovery’ of an Afterlife, Then ...   \n",
      "10  Review: In ‘The Zookeeper’s Wife,’ the Holocau...   \n",
      "11  Review: ‘Karl Marx City’ Revisits the Everyday...   \n",
      "12  Review: ‘Phillauri,’ an Indian Rom-Com With an...   \n",
      "13  Review: In ‘Life,’ Extraterrestrial Fun, Until...   \n",
      "14  Review: ‘I Called Him Morgan,’ a Jazz Tale of ...   \n",
      "15  Review: ‘American Anarchist’ Is a Frustrating ...   \n",
      "16  Review: In ‘CHIPS,’ Blown-Up Cars Overshadow B...   \n",
      "17  Review: ‘Dig Two Graves,’ but the Goodbye Is O...   \n",
      "18  Review: ‘In Search of Israeli Cuisine’ Isn’t J...   \n",
      "19  Review: ‘Saban’s Power Rangers,’ With a Color-...   \n",
      "\n",
      "                                                 link mpaa_rating  \\\n",
      "0   {u'url': u'http://www.nytimes.com/2017/03/30/m...       PG-13   \n",
      "1   {u'url': u'http://www.nytimes.com/2017/03/30/m...               \n",
      "2   {u'url': u'http://www.nytimes.com/2017/03/30/m...          PG   \n",
      "3   {u'url': u'http://www.nytimes.com/2017/03/30/m...               \n",
      "4   {u'url': u'http://www.nytimes.com/2017/03/30/m...               \n",
      "5   {u'url': u'http://www.nytimes.com/2017/03/30/m...               \n",
      "6   {u'url': u'http://www.nytimes.com/2017/03/30/m...               \n",
      "7   {u'url': u'http://www.nytimes.com/2017/03/30/m...               \n",
      "8   {u'url': u'http://www.nytimes.com/2017/03/29/m...           R   \n",
      "9   {u'url': u'http://www.nytimes.com/2017/03/29/m...               \n",
      "10  {u'url': u'http://www.nytimes.com/2017/03/29/m...       PG-13   \n",
      "11  {u'url': u'http://www.nytimes.com/2017/03/28/m...               \n",
      "12  {u'url': u'http://www.nytimes.com/2017/03/26/m...               \n",
      "13  {u'url': u'http://www.nytimes.com/2017/03/23/m...           R   \n",
      "14  {u'url': u'http://www.nytimes.com/2017/03/23/m...               \n",
      "15  {u'url': u'http://www.nytimes.com/2017/03/23/m...               \n",
      "16  {u'url': u'http://www.nytimes.com/2017/03/23/m...           R   \n",
      "17  {u'url': u'http://www.nytimes.com/2017/03/23/m...               \n",
      "18  {u'url': u'http://www.nytimes.com/2017/03/23/m...               \n",
      "19  {u'url': u'http://www.nytimes.com/2017/03/23/m...       PG-13   \n",
      "\n",
      "                                           multimedia opening_date  \\\n",
      "0   {u'src': u'https://static01.nyt.com/images/201...   2017-03-31   \n",
      "1   {u'src': u'https://static01.nyt.com/images/201...   2017-03-31   \n",
      "2   {u'src': u'https://static01.nyt.com/images/201...   2017-03-31   \n",
      "3   {u'src': u'https://static01.nyt.com/images/201...         None   \n",
      "4   {u'src': u'https://static01.nyt.com/images/201...         None   \n",
      "5   {u'src': u'https://static01.nyt.com/images/201...         None   \n",
      "6   {u'src': u'https://static01.nyt.com/images/201...   0000-00-00   \n",
      "7   {u'src': u'https://static01.nyt.com/images/201...   2017-03-31   \n",
      "8   {u'src': u'https://static01.nyt.com/images/201...   2017-03-31   \n",
      "9   {u'src': u'https://static01.nyt.com/images/201...         None   \n",
      "10  {u'src': u'https://static01.nyt.com/images/201...   2017-03-31   \n",
      "11  {u'src': u'https://static01.nyt.com/images/201...   2017-03-29   \n",
      "12  {u'src': u'https://static01.nyt.com/images/201...   2017-03-24   \n",
      "13  {u'src': u'https://static01.nyt.com/images/201...   2017-03-24   \n",
      "14  {u'src': u'https://static01.nyt.com/images/201...   2017-03-24   \n",
      "15  {u'src': u'https://static01.nyt.com/images/201...         None   \n",
      "16  {u'src': u'https://static01.nyt.com/images/201...   2017-03-24   \n",
      "17  {u'src': u'https://static01.nyt.com/images/201...   2017-03-24   \n",
      "18  {u'src': u'https://static01.nyt.com/images/201...   2016-01-28   \n",
      "19  {u'src': u'https://static01.nyt.com/images/201...   2017-03-24   \n",
      "\n",
      "   publication_date                                      summary_short  \n",
      "0        2017-03-30  Scarlett Johansson, playing a cyborg called Ma...  \n",
      "1        2017-03-30  This limber, light-footed documentary becomes ...  \n",
      "2        2017-03-30  An animated feature starring a newborn with an...  \n",
      "3        2017-03-30  A 19-year-old British prodigy fresh out of Har...  \n",
      "4        2017-03-30  A documentary profile of this filmmaker focuse...  \n",
      "5        2017-03-30  A woman struggles to survive the aftermath of ...  \n",
      "6        2017-03-30  This documentary captures the antic personalit...  \n",
      "7        2017-03-30  This first feature by the director Logan Sandl...  \n",
      "8        2017-03-29  A new film offers an intimate, searching portr...  \n",
      "9        2017-03-29  A science-fiction romance starring Robert Redf...  \n",
      "10       2017-03-29  This true story of a couple who sheltered Jews...  \n",
      "11       2017-03-28  In this documentary, a filmmaker returns to he...  \n",
      "12       2017-03-26  Anshai Lal’s Bollywood movie uses a friendly g...  \n",
      "13       2017-03-23  This movie offers proof of life on another pla...  \n",
      "14       2017-03-23  The director Kasper Collin has created a suave...  \n",
      "15       2017-03-23  A dialogue between the director and the author...  \n",
      "16       2017-03-23  This unrepentantly lewd comedy, based on the 1...  \n",
      "17       2017-03-23  Hunter Adams shows his skill as a filmmaker, d...  \n",
      "18       2017-03-23  A documentary raises provocative questions as ...  \n",
      "19       2017-03-23  The popular 1990s series receives a big-screen...  \n"
     ]
    }
   ],
   "source": [
    "url = 'http://api.nytimes.com/svc/movies/v2/reviews/search.json?critics-pick=Y?order=by-date&offset=40&apikey=cca7ccbe60f842838bec1a4e5c7b8492'\n",
    "\n",
    "response = requests.get(url)\n",
    "\n",
    "data = json.loads(response.text)\n",
    "\n",
    "df = pd.DataFrame(data['results'])\n",
    "\n",
    "print df"
   ]
  },
  {
   "cell_type": "markdown",
   "metadata": {},
   "source": [
    "simple request and loading of the results into a Dataframe will achive the stated objective."
   ]
  },
  {
   "cell_type": "markdown",
   "metadata": {},
   "source": [
    "However, 2 of the columns: link and multimedia require addiitonal processing to make the data useable downstream."
   ]
  },
  {
   "cell_type": "code",
   "execution_count": null,
   "metadata": {
    "collapsed": true
   },
   "outputs": [],
   "source": []
  }
 ],
 "metadata": {
  "kernelspec": {
   "display_name": "Python 2",
   "language": "python",
   "name": "python2"
  },
  "language_info": {
   "codemirror_mode": {
    "name": "ipython",
    "version": 2
   },
   "file_extension": ".py",
   "mimetype": "text/x-python",
   "name": "python",
   "nbconvert_exporter": "python",
   "pygments_lexer": "ipython2",
   "version": "2.7.13"
  }
 },
 "nbformat": 4,
 "nbformat_minor": 2
}
